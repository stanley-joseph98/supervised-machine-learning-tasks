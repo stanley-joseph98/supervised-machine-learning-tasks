{
 "cells": [
  {
   "cell_type": "code",
   "execution_count": 1,
   "id": "fb3e84d3",
   "metadata": {},
   "outputs": [],
   "source": [
    "import pandas as pd # Data processing\n",
    "import numpy as np # Mathematical manipulation such as linear algebra\n",
    "import matplotlib.pyplot as plt #Data viz\n",
    "import seaborn as sns # Advanced Dataviz\n",
    "from scipy import stats #Statistical manipulation/analysis"
   ]
  }
 ],
 "metadata": {
  "kernelspec": {
   "display_name": "Python 3 (ipykernel)",
   "language": "python",
   "name": "python3"
  },
  "language_info": {
   "codemirror_mode": {
    "name": "ipython",
    "version": 3
   },
   "file_extension": ".py",
   "mimetype": "text/x-python",
   "name": "python",
   "nbconvert_exporter": "python",
   "pygments_lexer": "ipython3",
   "version": "3.11.5"
  }
 },
 "nbformat": 4,
 "nbformat_minor": 5
}
