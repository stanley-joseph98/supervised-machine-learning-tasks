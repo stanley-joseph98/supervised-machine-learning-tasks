{
 "cells": [
  {
   "cell_type": "markdown",
   "id": "8f056172-5bd9-4e42-b6e3-11a47affc6fe",
   "metadata": {},
   "source": [
    "# Title"
   ]
  },
  {
   "cell_type": "markdown",
   "id": "24b8a273-d4d9-476e-b9f8-7b17d79e794e",
   "metadata": {},
   "source": [
    "## title"
   ]
  },
  {
   "cell_type": "markdown",
   "id": "6137e9e5-cea4-430d-acb3-da324ce4ea33",
   "metadata": {},
   "source": [
    "### title"
   ]
  },
  {
   "cell_type": "markdown",
   "id": "9bbf97dd-b505-4f3a-bd64-3d1e265f0ded",
   "metadata": {},
   "source": [
    "#### title"
   ]
  },
  {
   "cell_type": "markdown",
   "id": "edd6e350-8288-4df1-8ac5-dbf5a82b2da6",
   "metadata": {},
   "source": [
    "##### title"
   ]
  },
  {
   "cell_type": "code",
   "execution_count": 3,
   "id": "5bbf47ca-6566-4a1c-af15-023055c53a31",
   "metadata": {},
   "outputs": [],
   "source": [
    "#This is a comment, importing pandas\n",
    "import pandas as pd"
   ]
  },
  {
   "cell_type": "raw",
   "id": "b3a13f81-2de3-4a79-9641-7f8390b68f75",
   "metadata": {},
   "source": [
    "dddddd"
   ]
  },
  {
   "cell_type": "code",
   "execution_count": 4,
   "id": "aa3a0d98-33f9-4db2-bfb6-dea97c09c4fc",
   "metadata": {},
   "outputs": [],
   "source": [
    "import matplotlib.pyplot as plt"
   ]
  },
  {
   "cell_type": "code",
   "execution_count": null,
   "id": "013589cc-9850-4d25-b5a5-7593eae825bb",
   "metadata": {},
   "outputs": [],
   "source": []
  }
 ],
 "metadata": {
  "kernelspec": {
   "display_name": "Python 3 (ipykernel)",
   "language": "python",
   "name": "python3"
  },
  "language_info": {
   "codemirror_mode": {
    "name": "ipython",
    "version": 3
   },
   "file_extension": ".py",
   "mimetype": "text/x-python",
   "name": "python",
   "nbconvert_exporter": "python",
   "pygments_lexer": "ipython3",
   "version": "3.12.2"
  }
 },
 "nbformat": 4,
 "nbformat_minor": 5
}
