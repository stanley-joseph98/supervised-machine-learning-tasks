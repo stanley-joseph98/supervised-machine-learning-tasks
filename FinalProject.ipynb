{
 "cells": [
  {
   "cell_type": "code",
   "execution_count": null,
   "id": "505aad6c-5d8b-4ccc-93d4-75fba67eee3f",
   "metadata": {},
   "outputs": [],
   "source": []
  },
  {
   "cell_type": "markdown",
   "id": "4588ac8b-a379-4d25-aecc-6319db8ff804",
   "metadata": {},
   "source": [
    "<p style=\"text-align:center\">\n",
    "    <a href=\"https://skills.network\" target=\"_blank\">\n",
    "    <img src=\"https://cf-courses-data.s3.us.cloud-object-storage.appdomain.cloud/assets/logos/SN_web_lightmode.png\" width=\"200\" alt=\"Skills Network Logo\">\n",
    "    </a>\n",
    "</p>\n"
   ]
  },
  {
   "cell_type": "markdown",
   "id": "d9a8ad58-1630-4e05-950f-9ff740a8db0f",
   "metadata": {},
   "source": [
    "# Final Project: Data Analysis using Spark\n",
    "\n",
    "Estimated time needed: **60** minutes\n",
    "\n",
    "This final project is similar to the Practice Project you did. In this project, you will not be provided with hints or solutions. You will create a DataFrame by loading data from a CSV file and apply transformations and actions using Spark SQL. This needs to be achieved by performing the following tasks:\n",
    "\n",
    "- Task 1: Generate DataFrame from CSV data.\n",
    "- Task 2: Define a schema for the data.\n",
    "- Task 3: Display schema of DataFrame.\n",
    "- Task 4: Create a temporary view.\n",
    "- Task 5: Execute an SQL query.\n",
    "- Task 6: Calculate Average Salary by Department.\n",
    "- Task 7: Filter and Display IT Department Employees.\n",
    "- Task 8: Add 10% Bonus to Salaries.\n",
    "- Task 9: Find Maximum Salary by Age.\n",
    "- Task 10: Self-Join on Employee Data.\n",
    "- Task 11: Calculate Average Employee Age.\n",
    "- Task 12: Calculate Total Salary by Department.\n",
    "- Task 13: Sort Data by Age and Salary.\n",
    "- Task 14: Count Employees in Each Department.\n",
    "- Task 15: Filter Employees with the letter o in the Name.\n"
   ]
  },
  {
   "cell_type": "markdown",
   "id": "f991a4ce-f77d-4acd-8040-3549a057257f",
   "metadata": {},
   "source": [
    "### Prerequisites \n",
    "\n",
    "1. For this lab assignment, you will be using Python and Spark (PySpark). Therefore, it's essential to make sure that the following libraries are installed in your lab environment or within Skills Network (SN) Labs\n"
   ]
  },
  {
   "cell_type": "code",
   "execution_count": null,
   "id": "392d8153-3ffa-465e-8b3a-30e13d23f4d9",
   "metadata": {},
   "outputs": [],
   "source": [
    "# Installing required packages  \n",
    "\n",
    "!pip install pyspark  findspark wget\n"
   ]
  },
  {
   "cell_type": "code",
   "execution_count": null,
   "id": "088cd3d3-1448-46d8-8f2c-87b4a4bca80f",
   "metadata": {},
   "outputs": [],
   "source": [
    "import findspark\n",
    "\n",
    "findspark.init()"
   ]
  },
  {
   "cell_type": "code",
   "execution_count": null,
   "id": "d6de71f1-649c-46fb-85e8-96793afd536d",
   "metadata": {},
   "outputs": [],
   "source": [
    "# PySpark is the Spark API for Python. In this lab, we use PySpark to initialize the SparkContext.   \n",
    "\n",
    "from pyspark import SparkContext, SparkConf\n",
    "\n",
    "from pyspark.sql import SparkSession"
   ]
  },
  {
   "cell_type": "code",
   "execution_count": null,
   "id": "2303fb3e-996b-4288-8d3d-a36af1d672e8",
   "metadata": {},
   "outputs": [],
   "source": [
    "# Creating a SparkContext object  \n",
    "\n",
    "sc = SparkContext.getOrCreate()\n",
    "\n",
    "# Creating a SparkSession  \n",
    "\n",
    "spark = SparkSession \\\n",
    "    .builder \\\n",
    "    .appName(\"Python Spark DataFrames basic example\") \\\n",
    "    .config(\"spark.some.config.option\", \"some-value\") \\\n",
    "    .getOrCreate()"
   ]
  },
  {
   "cell_type": "markdown",
   "id": "7e4d1a86-987d-48ac-9ddb-f1909046550f",
   "metadata": {},
   "source": [
    "2. Download the CSV data.  \n"
   ]
  },
  {
   "cell_type": "code",
   "execution_count": null,
   "id": "abf7bf14-676a-4a76-bbf2-dda3235d08df",
   "metadata": {},
   "outputs": [],
   "source": [
    "# Download the CSV data first into a local `employees.csv` file\n",
    "import wget\n",
    "wget.download(\"https://cf-courses-data.s3.us.cloud-object-storage.appdomain.cloud/IBM-BD0225EN-SkillsNetwork/data/employees.csv\")"
   ]
  },
  {
   "cell_type": "markdown",
   "id": "82186d44-95d9-4f81-a110-9e0628701b61",
   "metadata": {},
   "source": [
    "### Tasks\n"
   ]
  },
  {
   "cell_type": "markdown",
   "id": "ed0ddc14-eb9b-44cd-a7d3-0fdfc78c99d8",
   "metadata": {},
   "source": [
    "#### Task 1: Generate a Spark DataFrame from the CSV data\n",
    "\n",
    "Read data from the provided CSV file, `employees.csv` and import it into a Spark DataFrame variable named `employees_df`.\n",
    "\n",
    " \n"
   ]
  },
  {
   "cell_type": "code",
   "execution_count": null,
   "id": "d30e0f10-2d9e-4661-a0b9-89556592c311",
   "metadata": {},
   "outputs": [],
   "source": [
    "# Read data from the \"emp\" CSV file and import it into a DataFrame variable named \"employees_df\"  \n"
   ]
  },
  {
   "cell_type": "markdown",
   "id": "78e2aa31-92fb-4bfd-9c8d-541284c3fd2f",
   "metadata": {},
   "source": [
    "#### Task 2: Define a schema for the data\n",
    "\n",
    "Construct a schema for the input data and then utilize the defined schema to read the CSV file to create a DataFrame named `employees_df`.  \n"
   ]
  },
  {
   "cell_type": "code",
   "execution_count": null,
   "id": "f90a1d9d-adca-4a94-8753-db071994cc65",
   "metadata": {},
   "outputs": [],
   "source": [
    "# Define a Schema for the input data and read the file using the user-defined Schema\n"
   ]
  },
  {
   "cell_type": "markdown",
   "id": "4c53e16a-4794-4893-8ee6-5a65fff480d1",
   "metadata": {},
   "source": [
    "#### Task 3: Display schema of DataFrame\n",
    "\n",
    "Display the schema of the `employees_df` DataFrame, showing all columns and their respective data types.  \n"
   ]
  },
  {
   "cell_type": "code",
   "execution_count": null,
   "id": "a43700dc-b44c-4937-9729-a8a81f7f4462",
   "metadata": {},
   "outputs": [],
   "source": [
    "# Display all columns of the DataFrame, along with their respective data types\n"
   ]
  },
  {
   "cell_type": "markdown",
   "id": "7c5f2121-b0fc-4b98-bac3-8a4fa845bc8b",
   "metadata": {},
   "source": [
    "#### Task 4: Create a temporary view\n",
    "\n",
    "Create a temporary view named `employees` for the `employees_df` DataFrame, enabling Spark SQL queries on the data. \n"
   ]
  },
  {
   "cell_type": "code",
   "execution_count": null,
   "id": "99bdefe6-e545-4076-92fe-fa46b69a779b",
   "metadata": {},
   "outputs": [],
   "source": [
    "# Create a temporary view named \"employees\" for the DataFrame\n"
   ]
  },
  {
   "cell_type": "markdown",
   "id": "723dbbb6-9c3b-4804-9168-2c5431ff4465",
   "metadata": {},
   "source": [
    "#### Task 5: Execute an SQL query\n",
    "\n",
    "Compose and execute an SQL query to fetch the records from the `employees` view where the age of employees exceeds 30. Then, display the result of the SQL query, showcasing the filtered records.\n"
   ]
  },
  {
   "cell_type": "code",
   "execution_count": null,
   "id": "4a15fce1-b8f8-434b-bd91-7a623f57b5e8",
   "metadata": {},
   "outputs": [],
   "source": [
    "# SQL query to fetch solely the records from the View where the age exceeds 30\n"
   ]
  },
  {
   "cell_type": "markdown",
   "id": "3ddf8ff1-6403-4352-a69f-df31a3a3ebd1",
   "metadata": {},
   "source": [
    "#### Task 6: Calculate Average Salary by Department\n",
    "\n",
    "Compose an SQL query to retrieve the average salary of employees grouped by department. Display the result.\n"
   ]
  },
  {
   "cell_type": "code",
   "execution_count": null,
   "id": "615ceefc-381a-4f9c-9dbc-988712e9a3ef",
   "metadata": {},
   "outputs": [],
   "source": [
    "# SQL query to calculate the average salary of employees grouped by department\n"
   ]
  },
  {
   "cell_type": "markdown",
   "id": "32406372-6ebe-45c5-ac3a-e055b419d49a",
   "metadata": {},
   "source": [
    "#### Task 7: Filter and Display IT Department Employees\n",
    "\n",
    "Apply a filter on the `employees_df` DataFrame to select records where the department is `'IT'`. Display the filtered DataFrame.\n"
   ]
  },
  {
   "cell_type": "code",
   "execution_count": null,
   "id": "1e07702f-7067-4897-99c1-41035ffe80ac",
   "metadata": {},
   "outputs": [],
   "source": [
    "# Apply a filter to select records where the department is 'IT'\n"
   ]
  },
  {
   "cell_type": "markdown",
   "id": "219192ee-5ee6-41bb-a840-008fc139fe39",
   "metadata": {},
   "source": [
    "#### Task 8: Add 10% Bonus to Salaries\n",
    "\n",
    "Perform a transformation to add a new column named \"SalaryAfterBonus\" to the DataFrame. Calculate the new salary by adding a 10% bonus to each employee's salary.\n"
   ]
  },
  {
   "cell_type": "code",
   "execution_count": null,
   "id": "6bd270b0-b428-46a7-a783-933f3071d69d",
   "metadata": {},
   "outputs": [],
   "source": [
    "from pyspark.sql.functions import col\n",
    "\n",
    "# Add a new column \"SalaryAfterBonus\" with 10% bonus added to the original salary\n"
   ]
  },
  {
   "cell_type": "markdown",
   "id": "518dac1e-e0de-4ac7-83a2-dc2ebbd010de",
   "metadata": {},
   "source": [
    "#### Task 9: Find Maximum Salary by Age\n",
    "\n",
    "Group the data by age and calculate the maximum salary for each age group. Display the result.\n"
   ]
  },
  {
   "cell_type": "code",
   "execution_count": null,
   "id": "dec0faf6-d988-4517-99f6-904e79de66bd",
   "metadata": {},
   "outputs": [],
   "source": [
    "from pyspark.sql.functions import max\n",
    "\n",
    "# Group data by age and calculate the maximum salary for each age group\n"
   ]
  },
  {
   "cell_type": "markdown",
   "id": "2c2dd920-7096-412d-bd7c-98764847ffde",
   "metadata": {},
   "source": [
    "#### Task 10: Self-Join on Employee Data\n",
    "\n",
    "Join the \"employees_df\" DataFrame with itself based on the \"Emp_No\" column. Display the result.\n"
   ]
  },
  {
   "cell_type": "code",
   "execution_count": null,
   "id": "ec9c5936-9874-4123-8196-e20182dc0583",
   "metadata": {},
   "outputs": [],
   "source": [
    "# Join the DataFrame with itself based on the \"Emp_No\" column\n"
   ]
  },
  {
   "cell_type": "markdown",
   "id": "12511ad1-d67f-4e40-9884-112da55491d7",
   "metadata": {},
   "source": [
    "#### Task 11: Calculate Average Employee Age\n",
    "\n",
    "Calculate the average age of employees using the built-in aggregation function. Display the result.\n"
   ]
  },
  {
   "cell_type": "code",
   "execution_count": null,
   "id": "a084e273-e756-4da4-bc5e-57f6532937f5",
   "metadata": {},
   "outputs": [],
   "source": [
    "# Calculate the average age of employees\n",
    "from pyspark.sql.functions import avg \n"
   ]
  },
  {
   "cell_type": "markdown",
   "id": "a56c04c4-12c1-45b9-839e-0f79ce2bced2",
   "metadata": {},
   "source": [
    "#### Task 12: Calculate Total Salary by Department\n",
    "\n",
    "Calculate the total salary for each department using the built-in aggregation function. Display the result.\n"
   ]
  },
  {
   "cell_type": "code",
   "execution_count": null,
   "id": "27fd4e96-3157-4112-98a2-95bb22c152ad",
   "metadata": {},
   "outputs": [],
   "source": [
    "# Calculate the total salary for each department. Hint - User GroupBy and Aggregate functions\n",
    "from pyspark.sql.functions import sum \n"
   ]
  },
  {
   "cell_type": "markdown",
   "id": "8d9c9d95-106f-4ecf-8925-b5fd654bd48d",
   "metadata": {},
   "source": [
    "#### Task 13: Sort Data by Age and Salary\n",
    "\n",
    "Apply a transformation to sort the DataFrame by age in ascending order and then by salary in descending order. Display the sorted DataFrame.\n"
   ]
  },
  {
   "cell_type": "code",
   "execution_count": null,
   "id": "69fb26a2-20a2-48b9-a87a-61af2d4f6fac",
   "metadata": {},
   "outputs": [],
   "source": [
    "# Sort the DataFrame by age in ascending order and then by salary in descending order\n"
   ]
  },
  {
   "cell_type": "markdown",
   "id": "30e2e205-7b61-4308-aa3e-c16b3d3ac8a9",
   "metadata": {},
   "source": [
    "#### Task 14: Count Employees in Each Department\n",
    "\n",
    "Calculate the number of employees in each department. Display the result.\n"
   ]
  },
  {
   "cell_type": "code",
   "execution_count": null,
   "id": "409ab156-0ee8-4bab-8e65-f694fda48ab1",
   "metadata": {},
   "outputs": [],
   "source": [
    "from pyspark.sql.functions import count\n",
    "\n",
    "# Calculate the number of employees in each department\n"
   ]
  },
  {
   "cell_type": "markdown",
   "id": "ea2eefd4-ffab-489b-b863-7db3e113855d",
   "metadata": {},
   "source": [
    "#### Task 15: Filter Employees with the letter o in the Name\n",
    "\n",
    "Apply a filter to select records where the employee's name contains the letter `'o'`. Display the filtered DataFrame.\n"
   ]
  },
  {
   "cell_type": "code",
   "execution_count": null,
   "id": "96503181-fa32-48a7-b778-afbb9b5aaf31",
   "metadata": {},
   "outputs": [],
   "source": [
    "# Apply a filter to select records where the employee's name contains the letter 'o'\n"
   ]
  },
  {
   "cell_type": "markdown",
   "id": "3eb2d08e-8051-4568-9dfc-47b993aa72dd",
   "metadata": {},
   "source": [
    "# Congratulations! You have completed the project.\n",
    "\n",
    "Now you know how to create a DataFrame from a CSV data file and perform a variety of DataFrame transformations and actions using Spark SQL.\n"
   ]
  },
  {
   "cell_type": "markdown",
   "id": "bddc7259-fd7e-4fad-9f10-c5ed54812785",
   "metadata": {},
   "source": [
    "## Authors\n"
   ]
  },
  {
   "cell_type": "markdown",
   "id": "77178265-567b-4069-acf4-9b360c06d924",
   "metadata": {},
   "source": [
    "Raghul Ramesh\n"
   ]
  },
  {
   "cell_type": "markdown",
   "id": "ba689edc-8caf-47ab-b92f-c4ef19a5dad2",
   "metadata": {},
   "source": [
    "Lavanya T S\n"
   ]
  },
  {
   "cell_type": "markdown",
   "id": "1df357a3-9b59-4c4a-9aed-c066631f30c1",
   "metadata": {},
   "source": [
    "## Change Log\n"
   ]
  },
  {
   "cell_type": "markdown",
   "id": "ea1cabb5-7a72-415a-a4d4-2351dff509cf",
   "metadata": {},
   "source": [
    "|Date (YYYY-MM-DD)|Version|Changed By|Change Description|\n",
    "|-|-|-|-|\n",
    "|2023-09-01|0.1|Lavanya T S|Initial version|\n",
    "|2023-09-11|0.2|Pornima More|QA pass with edits|\n"
   ]
  },
  {
   "cell_type": "markdown",
   "id": "8cf341e0-d05f-4c89-a1cd-354da9fd0eab",
   "metadata": {},
   "source": [
    "Copyright © 2023 IBM Corporation. All rights reserved.\n"
   ]
  }
 ],
 "metadata": {
  "kernelspec": {
   "display_name": "Python 3 (ipykernel)",
   "language": "python",
   "name": "python3"
  },
  "language_info": {
   "codemirror_mode": {
    "name": "ipython",
    "version": 3
   },
   "file_extension": ".py",
   "mimetype": "text/x-python",
   "name": "python",
   "nbconvert_exporter": "python",
   "pygments_lexer": "ipython3",
   "version": "3.11.5"
  }
 },
 "nbformat": 4,
 "nbformat_minor": 4
}
