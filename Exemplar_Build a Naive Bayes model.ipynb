{
 "cells": [
  {
   "cell_type": "code",
   "execution_count": 23,
   "metadata": {},
   "outputs": [
    {
     "name": "stdout",
     "output_type": "stream",
     "text": [
      "2\n"
     ]
    }
   ],
   "source": [
    "def count11(seq):\n",
    "    count = 0\n",
    "    for i in range(len(seq)):\n",
    "        if seq[i] == 1 and seq[i + 1] == 1:\n",
    "            count = count + 1\n",
    "    return count\n",
    "print(count11([0, 0, 1, 1, 1, 0]))  \n"
   ]
  },
  {
   "cell_type": "code",
   "execution_count": 1,
   "metadata": {},
   "outputs": [
    {
     "name": "stdout",
     "output_type": "stream",
     "text": [
      "Accuracy: 0.5714285714285714\n"
     ]
    }
   ],
   "source": [
    "from sklearn.model_selection import train_test_split\n",
    "from sklearn.naive_bayes import MultinomialNB\n",
    "from sklearn.metrics import accuracy_score\n",
    "\n",
    "# Given data\n",
    "spam_word_counts = {\n",
    "    \"identify\": 1,\n",
    "    \"consultant\": 1,\n",
    "    \"data\": 2,\n",
    "    \"scientist\": 1,\n",
    "    \"machine\": 1,\n",
    "    \"learning\": 1,\n",
    "    \"competitors\": 1,\n",
    "    \"latest\": 2,\n",
    "    \"technology\": 2,\n",
    "    \"freelancer\": 1,\n",
    "    \"cryptocurrency\": 1,\n",
    "    \"dashboard\": 1,\n",
    "    \"drone\": 1,\n",
    "    \"3d\": 1,\n",
    "    \"model\": 1,\n",
    "    \"holiday\": 1,\n",
    "    \"home\": 1,\n",
    "    \"design\": 1,\n",
    "    \"render\": 1,\n",
    "    \"consulting\": 1,\n",
    "    \"services\": 1,\n",
    "    \"implementation\": 1,\n",
    "    \"plan\": 1\n",
    "}\n",
    "\n",
    "ham_word_counts = {\n",
    "    \"business\": 4,\n",
    "    \"ai\": 3,\n",
    "    \"transform\": 1,\n",
    "    \"journey\": 1,\n",
    "    \"maze\": 1,\n",
    "    \"tech\": 1,\n",
    "    \"jargon\": 1,\n",
    "    \"areas\": 1,\n",
    "    \"profits\": 1,\n",
    "    \"revenue\": 1,\n",
    "    \"growth\": 1,\n",
    "    \"products\": 1,\n",
    "    \"customer\": 1,\n",
    "    \"experience\": 1,\n",
    "    \"operational\": 1,\n",
    "    \"workflow\": 1,\n",
    "    \"collecting\": 1,\n",
    "    \"analyzing\": 1,\n",
    "    \"quality\": 1,\n",
    "    \"staying\": 1,\n",
    "    \"abreast\": 1,\n",
    "    \"advances\": 1,\n",
    "    \"demanding\": 1,\n",
    "    \"tailored\": 1,\n",
    "    \"solutions\": 1,\n",
    "    \"revolutionize\": 1,\n",
    "    \"unique\": 1,\n",
    "    \"needs\": 1,\n",
    "    \"learn\": 1,\n",
    "    \"possibilities\": 1,\n",
    "    \"delve\": 1,\n",
    "    \"deeper\": 1,\n",
    "    \"elevate\": 1,\n",
    "    \"insights\": 1,\n",
    "    \"cost\": 3,\n",
    "    \"days\": 3,\n",
    "    \"project\": 1,\n",
    "    \"naive\": 1,\n",
    "    \"bayes\": 1,\n",
    "    \"algorithm\": 1,\n",
    "    \"classify\": 1,\n",
    "    \"info\": 1,\n",
    "    \"provided\": 1,\n",
    "    \"spam\": 1,\n",
    "    \"ham\": 1\n",
    "}\n",
    "\n",
    "# Convert word counts into feature vectors\n",
    "X = []\n",
    "y = []\n",
    "for word, count in spam_word_counts.items():\n",
    "    X.append([count])\n",
    "    y.append(1)  # 1 represents spam\n",
    "\n",
    "for word, count in ham_word_counts.items():\n",
    "    X.append([count])\n",
    "    y.append(0)  # 0 represents ham\n",
    "\n",
    "# Split the dataset into training and testing sets\n",
    "X_train, X_test, y_train, y_test = train_test_split(X, y, test_size=0.2, random_state=42)\n",
    "\n",
    "# Train the Naive Bayes classifier\n",
    "clf = MultinomialNB()\n",
    "clf.fit(X_train, y_train)\n",
    "\n",
    "# Make predictions on the test set\n",
    "y_pred = clf.predict(X_test)\n",
    "\n",
    "# Evaluate the classifier\n",
    "accuracy = accuracy_score(y_test, y_pred)\n",
    "print(\"Accuracy:\", accuracy)\n"
   ]
  },
  {
   "cell_type": "code",
   "execution_count": 2,
   "metadata": {},
   "outputs": [
    {
     "name": "stdout",
     "output_type": "stream",
     "text": [
      "1. Probability of the message 'million' being spam: 0.7155007256894049\n",
      "2. Probability of the message 'million dollars adclick conferences' being spam: 0.7155007256894049\n"
     ]
    }
   ],
   "source": [
    "# Given data\n",
    "spam_word_counts = {\n",
    "    \"million\": 156,\n",
    "    \"dollars\": 29,\n",
    "    \"adclick\": 51,\n",
    "    \"conferences\": 0\n",
    "}\n",
    "\n",
    "ham_word_counts = {\n",
    "    \"million\": 98,\n",
    "    \"dollars\": 119,\n",
    "    \"adclick\": 0,\n",
    "    \"conferences\": 12\n",
    "}\n",
    "\n",
    "total_spam = 95791\n",
    "total_ham = 306438\n",
    "\n",
    "# Calculate the probability of a message being spam\n",
    "def calculate_spam_probability(message):\n",
    "    words = message.split()\n",
    "    posterior_spam = 1  # Prior odds\n",
    "    posterior_ham = 1\n",
    "\n",
    "    # Update the odds using likelihood ratios for each word\n",
    "    for word in words:\n",
    "        spam_count = spam_word_counts.get(word, 0)  # Get count of word in spam, default to 0\n",
    "        ham_count = ham_word_counts.get(word, 0)    # Get count of word in ham, default to 0\n",
    "        \n",
    "        if spam_count + ham_count > 0:\n",
    "            likelihood_ratio = (spam_count + 1) / (ham_count + 1)  # Laplace smoothing\n",
    "            posterior_spam *= likelihood_ratio\n",
    "            posterior_ham *= (1 / likelihood_ratio)\n",
    "\n",
    "    # Calculate the probability of spam given the message\n",
    "    probability_spam_given_message = posterior_spam / (posterior_spam + posterior_ham)\n",
    "\n",
    "    return probability_spam_given_message\n",
    "\n",
    "# Test message: \"million\"\n",
    "message_1 = \"million\"\n",
    "probability_1_spam = calculate_spam_probability(message_1)\n",
    "\n",
    "# Test message: \"million dollars adclick conferences\"\n",
    "message_2 = \"million dollars adclick conferences\"\n",
    "probability_2_spam = calculate_spam_probability(message_2)\n",
    "\n",
    "# Print results\n",
    "print(\"1. Probability of the message 'million' being spam:\", probability_1_spam)\n",
    "print(\"2. Probability of the message 'million dollars adclick conferences' being spam:\", probability_2_spam)\n"
   ]
  },
  {
   "cell_type": "code",
   "execution_count": 3,
   "metadata": {},
   "outputs": [
    {
     "name": "stdout",
     "output_type": "stream",
     "text": [
      "1. Posterior odds for spam given message 'million': 0.15579005781946767\n",
      "2. Posterior odds for spam given message 'million dollars adclick conferences': 1.7580475274766318e-05\n"
     ]
    }
   ],
   "source": [
    "# Given data\n",
    "spam_word_counts = {\n",
    "    \"million\": 156,\n",
    "    \"dollars\": 29,\n",
    "    \"adclick\": 51,\n",
    "    \"conferences\": 0\n",
    "}\n",
    "\n",
    "ham_word_counts = {\n",
    "    \"million\": 98,\n",
    "    \"dollars\": 119,\n",
    "    \"adclick\": 0,\n",
    "    \"conferences\": 12\n",
    "}\n",
    "\n",
    "total_spam = 95791\n",
    "total_ham = 306438\n",
    "vocab_size = len(set(spam_word_counts.keys()) | set(ham_word_counts.keys()))\n",
    "\n",
    "# 1. Calculate the probabilities for each word\n",
    "total_words_spam = sum(spam_word_counts.values())\n",
    "total_words_ham = sum(ham_word_counts.values())\n",
    "\n",
    "# 2. Calculate the prior probabilities\n",
    "prior_spam = total_spam / (total_spam + total_ham)\n",
    "prior_ham = total_ham / (total_spam + total_ham)\n",
    "\n",
    "# 3. Calculate the likelihood for each word with Laplace smoothing\n",
    "likelihood_word_spam = {word: (count + 1) / (total_words_spam + vocab_size) for word, count in spam_word_counts.items()}\n",
    "likelihood_word_ham = {word: (count + 1) / (total_words_ham + vocab_size) for word, count in ham_word_counts.items()}\n",
    "\n",
    "# 4. Calculate the posterior probability for each class\n",
    "def calculate_posterior(message):\n",
    "    words = message.split()\n",
    "    posterior_spam = prior_spam\n",
    "    posterior_ham = prior_ham\n",
    "    for word in words:\n",
    "        posterior_spam *= likelihood_word_spam.get(word, 1 / (total_words_spam + vocab_size))\n",
    "        posterior_ham *= likelihood_word_ham.get(word, 1 / (total_words_ham + vocab_size))\n",
    "    \n",
    "    return posterior_spam, posterior_ham\n",
    "\n",
    "# 5. Test message: \"million\"\n",
    "message_1 = \"million\"\n",
    "posterior_1_spam, posterior_1_ham = calculate_posterior(message_1)\n",
    "\n",
    "# 6. Test message: \"million dollars adclick conferences\"\n",
    "message_2 = \"million dollars adclick conferences\"\n",
    "posterior_2_spam, posterior_2_ham = calculate_posterior(message_2)\n",
    "\n",
    "# Print results\n",
    "print(\"1. Posterior odds for spam given message 'million':\", posterior_1_spam)\n",
    "print(\"2. Posterior odds for spam given message 'million dollars adclick conferences':\", posterior_2_spam)\n"
   ]
  },
  {
   "cell_type": "code",
   "execution_count": 4,
   "metadata": {},
   "outputs": [
    {
     "name": "stdout",
     "output_type": "stream",
     "text": [
      "Email classified as: ham\n"
     ]
    }
   ],
   "source": [
    "# Given data\n",
    "spam_word_counts = {\n",
    "    \"identify\": 1,\n",
    "    \"consultant\": 1,\n",
    "    \"data\": 2,\n",
    "    \"scientist\": 1,\n",
    "    \"machine\": 1,\n",
    "    \"learning\": 1,\n",
    "    \"competitors\": 1,\n",
    "    \"latest\": 2,\n",
    "    \"technology\": 2,\n",
    "    \"freelancer\": 1,\n",
    "    \"cryptocurrency\": 1,\n",
    "    \"dashboard\": 1,\n",
    "    \"drone\": 1,\n",
    "    \"3d\": 1,\n",
    "    \"model\": 1,\n",
    "    \"holiday\": 1,\n",
    "    \"home\": 1,\n",
    "    \"design\": 1,\n",
    "    \"render\": 1,\n",
    "    \"consulting\": 1,\n",
    "    \"services\": 1,\n",
    "    \"implementation\": 1,\n",
    "    \"plan\": 1\n",
    "}\n",
    "\n",
    "ham_word_counts = {\n",
    "    \"business\": 4,\n",
    "    \"ai\": 3,\n",
    "    \"transform\": 1,\n",
    "    \"journey\": 1,\n",
    "    \"maze\": 1,\n",
    "    \"tech\": 1,\n",
    "    \"jargon\": 1,\n",
    "    \"areas\": 1,\n",
    "    \"profits\": 1,\n",
    "    \"revenue\": 1,\n",
    "    \"growth\": 1,\n",
    "    \"products\": 1,\n",
    "    \"customer\": 1,\n",
    "    \"experience\": 1,\n",
    "    \"operational\": 1,\n",
    "    \"workflow\": 1,\n",
    "    \"collecting\": 1,\n",
    "    \"analyzing\": 1,\n",
    "    \"quality\": 1,\n",
    "    \"staying\": 1,\n",
    "    \"abreast\": 1,\n",
    "    \"advances\": 1,\n",
    "    \"demanding\": 1,\n",
    "    \"tailored\": 1,\n",
    "    \"solutions\": 1,\n",
    "    \"revolutionize\": 1,\n",
    "    \"unique\": 1,\n",
    "    \"needs\": 1,\n",
    "    \"learn\": 1,\n",
    "    \"possibilities\": 1,\n",
    "    \"delve\": 1,\n",
    "    \"deeper\": 1,\n",
    "    \"elevate\": 1,\n",
    "    \"insights\": 1,\n",
    "    \"cost\": 3,\n",
    "    \"days\": 3,\n",
    "    \"project\": 1,\n",
    "    \"naive\": 1,\n",
    "    \"bayes\": 1,\n",
    "    \"algorithm\": 1,\n",
    "    \"classify\": 1,\n",
    "    \"info\": 1,\n",
    "    \"provided\": 1,\n",
    "    \"spam\": 1,\n",
    "    \"ham\": 1\n",
    "}\n",
    "\n",
    "total_spam = sum(spam_word_counts.values())\n",
    "total_ham = sum(ham_word_counts.values())\n",
    "vocab_size = len(set(spam_word_counts.keys()) | set(ham_word_counts.keys()))\n",
    "\n",
    "# Prior probabilities\n",
    "prior_spam = total_spam / (total_spam + total_ham)\n",
    "prior_ham = total_ham / (total_spam + total_ham)\n",
    "\n",
    "# Calculate the likelihood for each word with Laplace smoothing\n",
    "def calculate_likelihood(word_counts, total_count):\n",
    "    return {word: (count + 1) / (total_count + vocab_size) for word, count in word_counts.items()}\n",
    "\n",
    "likelihood_word_spam = calculate_likelihood(spam_word_counts, total_spam)\n",
    "likelihood_word_ham = calculate_likelihood(ham_word_counts, total_ham)\n",
    "\n",
    "# Classify the email\n",
    "def classify_email(email):\n",
    "    words = email.lower().split()\n",
    "    posterior_spam = prior_spam\n",
    "    posterior_ham = prior_ham\n",
    "    for word in words:\n",
    "        posterior_spam *= likelihood_word_spam.get(word, 1 / (total_spam + vocab_size))\n",
    "        posterior_ham *= likelihood_word_ham.get(word, 1 / (total_ham + vocab_size))\n",
    "    \n",
    "    if posterior_spam > posterior_ham:\n",
    "        return \"spam\"\n",
    "    else:\n",
    "        return \"ham\"\n",
    "\n",
    "# Test the classification\n",
    "email = \"\"\"\n",
    "Transform 2024\n",
    "\n",
    "with AI:\n",
    "\n",
    "3 Step Guide\n",
    "\n",
    "Hi Joseph\n",
    "\n",
    "Embarking on an AI journey for your business might feel like navigating a maze of tech jargon.\n",
    "\n",
    "Feeling a bit lost? Fear not!\n",
    "\n",
    "We've crafted a three-step guide for your business's AI transformation. Let's turn confusion into clarity and make your AI adventure a stroll in the digital park.\n",
    "\n",
    "How to transform your business in 3 steps:\n",
    "\n",
    "1. Identify what the new world of AI can do for your business\n",
    "\n",
    "Identify key areas in your business, such as profits, revenue, growth, products, services, customer experience, and operational workflow. Evaluate where AI can enhance efficiency and performance. For the best results, engage an AI Consultant for personalized insights and a recommended implementation plan.\n",
    "\n",
    "2. Unlock the potential of your data with AI\n",
    "\n",
    "Collecting and analyzing data is a crucial step in AI implementation. The quality of the data used to train AI models directly affects the accuracy and effectiveness of the models. This can be a complicated process, better suited to a skilled Data Scientist and Machine Learning Engineer.\n",
    "\n",
    "3. Get an edge over your competitors with the latest technology\n",
    "\n",
    "The field of artificial intelligence is in a constant state of evolution. Staying abreast of the latest advances can be demanding, which is why consulting with experts, readily available on Freelancer, ensures that you harness cutting-edge AI solutions tailored to your business needs.\n",
    "\n",
    "Explore the possibilities and delve deeper into how AI can elevate your business. From personalized insights to tailored solutions, we're here to revolutionize your business together, unlocking the full potential of AI innovation for your unique needs.\n",
    "\n",
    "Learn more about AI What our AI-powered freelancers can do for you: Cryptocurrency Dashboard This cryptocurrency dashboard cost $540 USD and took 7 days\n",
    "\n",
    "Conceptual Drone 3D Model This conceptual drone 3D model cost $330 USD and took 5 days\n",
    "\n",
    "Holiday Home Design and Render This holiday home design and render cost $180 USD and took 6 days\n",
    "\n",
    "Post a project\n",
    "\"\"\"\n",
    "\n",
    "classification = classify_email(email)\n",
    "print(\"Email classified as:\", classification)\n"
   ]
  },
  {
   "cell_type": "code",
   "execution_count": 5,
   "metadata": {},
   "outputs": [
    {
     "name": "stdout",
     "output_type": "stream",
     "text": [
      "Predictions: [0 0]\n"
     ]
    }
   ],
   "source": [
    "from sklearn.model_selection import train_test_split\n",
    "from sklearn.naive_bayes import MultinomialNB\n",
    "from sklearn.feature_extraction.text import CountVectorizer\n",
    "\n",
    "# Extract the email text\n",
    "email_text = \"\"\"\n",
    "Transform 2024\n",
    "\n",
    "with AI:\n",
    "\n",
    "3 Step Guide\n",
    "\n",
    "Hi Joseph\n",
    "\n",
    "Embarking on an AI journey for your business might feel like navigating a maze of tech jargon.\n",
    "\n",
    "Feeling a bit lost? Fear not!\n",
    "\n",
    "We've crafted a three-step guide for your business's AI transformation. Let's turn confusion into clarity and make your AI adventure a stroll in the digital park.\n",
    "\n",
    "How to transform your business in 3 steps:\n",
    "\n",
    "1. Identify what the new world of AI can do for your business\n",
    "\n",
    "Identify key areas in your business, such as profits, revenue, growth, products, services, customer experience, and operational workflow. Evaluate where AI can enhance efficiency and performance. For the best results, engage an AI Consultant for personalized insights and a recommended implementation plan.\n",
    "\n",
    "2. Unlock the potential of your data with AI\n",
    "\n",
    "Collecting and analyzing data is a crucial step in AI implementation. The quality of the data used to train AI models directly affects the accuracy and effectiveness of the models. This can be a complicated process, better suited to a skilled Data Scientist and Machine Learning Engineer.\n",
    "\n",
    "3. Get an edge over your competitors with the latest technology\n",
    "\n",
    "The field of artificial intelligence is in a constant state of evolution. Staying abreast of the latest advances can be demanding, which is why consulting with experts, readily available on Freelancer, ensures that you harness cutting-edge AI solutions tailored to your business needs.\n",
    "\n",
    "Explore the possibilities and delve deeper into how AI can elevate your business. From personalized insights to tailored solutions, we're here to revolutionize your business together, unlocking the full potential of AI innovation for your unique needs.\n",
    "\n",
    "Learn more about AI What our AI-powered freelancers can do for you: Cryptocurrency Dashboard This cryptocurrency dashboard cost $540 USD and took 7 days\n",
    "\n",
    "Conceptual Drone 3D Model This conceptual drone 3D model cost $330 USD and took 5 days\n",
    "\n",
    "Holiday Home Design and Render This holiday home design and render cost $180 USD and took 6 days\n",
    "\n",
    "Post a project\n",
    "\"\"\"\n",
    "\n",
    "# Labels: 1 for spam, 0 for ham\n",
    "spam_labels = [1, 1, 1]\n",
    "ham_labels = [0, 0, 0]\n",
    "\n",
    "# Duplicate emails and labels\n",
    "emails = [email_text] * len(spam_labels + ham_labels)\n",
    "labels = spam_labels + ham_labels\n",
    "\n",
    "# Split the dataset into training and testing sets\n",
    "X_train, X_test, y_train, y_test = train_test_split(emails, labels, test_size=0.2, random_state=42)\n",
    "\n",
    "# Vectorize the emails using CountVectorizer\n",
    "vectorizer = CountVectorizer()\n",
    "X_train_counts = vectorizer.fit_transform(X_train)\n",
    "X_test_counts = vectorizer.transform(X_test)\n",
    "\n",
    "# Train a Multinomial Naive Bayes classifier\n",
    "clf = MultinomialNB()\n",
    "clf.fit(X_train_counts, y_train)\n",
    "\n",
    "# Predictions on the testing set\n",
    "y_pred = clf.predict(X_test_counts)\n",
    "\n",
    "print(\"Predictions:\", y_pred)\n"
   ]
  },
  {
   "cell_type": "code",
   "execution_count": 6,
   "metadata": {},
   "outputs": [
    {
     "name": "stdout",
     "output_type": "stream",
     "text": [
      "Probability of the message being spam: 0.9848752510708322\n"
     ]
    }
   ],
   "source": [
    "# Given likelihood ratios\n",
    "likelihood_ratios = {\n",
    "    \"million\": 5.1,\n",
    "    \"dollars\": 0.8,\n",
    "    \"adclick\": 53.2,\n",
    "    \"conferences\": 0.3\n",
    "}\n",
    "\n",
    "# Calculate the probability of a message being spam\n",
    "def calculate_spam_probability(message):\n",
    "    words = message.split()\n",
    "    posterior_odds = 1  # Prior odds\n",
    "\n",
    "    # Update the odds using likelihood ratios for each word\n",
    "    for word in words:\n",
    "        likelihood_ratio = likelihood_ratios.get(word, 1)  # Default to 1 if word not found\n",
    "        posterior_odds *= likelihood_ratio\n",
    "\n",
    "    # Calculate the probability of spam given the message\n",
    "    probability_spam_given_message = posterior_odds / (1 + posterior_odds)\n",
    "\n",
    "    return probability_spam_given_message\n",
    "\n",
    "# Test message: \"million dollars adclick conferences\"\n",
    "message_2_spam_probability = calculate_spam_probability(message_2)\n",
    "print(\"Probability of the message being spam:\", message_2_spam_probability)\n"
   ]
  },
  {
   "cell_type": "markdown",
   "metadata": {
    "id": "yugMU9MjJtBl"
   },
   "source": [
    "# Exemplar: Build a Naive Bayes model"
   ]
  },
  {
   "cell_type": "markdown",
   "metadata": {
    "id": "EzWqJunmJotv"
   },
   "source": [
    "## Introduction\n",
    "\n",
    "In this activity, you will build your own Naive Bayes model. Naive Bayes models can be valuable to use any time you are doing work with predictions because they give you a way to account for new information. In today's world, where data is constantly evolving, modeling with Naive Bayes can help you adapt quickly and make more accurate predictions about what could occur.\n",
    "\n",
    "For this activity, you work for a firm that provides insights for management and coaches in the National Basketball Association (NBA), a professional basketball league in North America. The league is interested in retaining players who can last in the high-pressure environment of professional basketball and help the team be successful over time. In the previous activity, you analyzed a subset of data that contained information about the NBA players and their performance records. You conducted feature engineering to determine which features would most effectively predict a player's career duration. You will now use those insights to build a model that predicts whether a player will have an NBA career lasting five years or more. \n",
    "\n",
    "The data for this activity consists of performance statistics from each player's rookie year. There are 1,341 observations, and each observation in the data represents a different player in the NBA. Your target variable is a Boolean value that indicates whether a given player will last in the league for five years. Since you previously performed feature engineering on this data, it is now ready for modeling.   "
   ]
  },
  {
   "cell_type": "markdown",
   "metadata": {
    "id": "yTVinL1hJqoy"
   },
   "source": [
    "## Step 1: Imports"
   ]
  },
  {
   "cell_type": "markdown",
   "metadata": {
    "id": "DDIRpqkZJ4S8"
   },
   "source": [
    "### Import packages\n",
    "\n",
    "Begin with your import statements. Of particular note here are `pandas` and from `sklearn`, `naive_bayes`, `model_selection`, and `metrics`."
   ]
  },
  {
   "cell_type": "code",
   "execution_count": 7,
   "metadata": {
    "id": "1nDjAJPa4lVZ"
   },
   "outputs": [],
   "source": [
    "# Import relevant libraries and modules.\n",
    "\n",
    "import pandas as pd\n",
    "from sklearn import naive_bayes\n",
    "from sklearn import model_selection\n",
    "from sklearn import metrics"
   ]
  },
  {
   "cell_type": "markdown",
   "metadata": {
    "id": "hKylHziGzY3X"
   },
   "source": [
    "### Load the dataset\n",
    "\n",
    "Recall that in the lab about feature engineering, you outputted features for the NBA player dataset along with the target variable ``target_5yrs``. Data was imported as a DataFrame called `extracted_data`. As shown in this cell, the dataset has been automatically loaded in for you. You do not need to download the .csv file, or provide more code, in order to access the dataset and proceed with this lab. Please continue with this activity by completing the following instructions."
   ]
  },
  {
   "cell_type": "code",
   "execution_count": 8,
   "metadata": {
    "colab": {
     "base_uri": "https://localhost:8080/",
     "height": 371
    },
    "executionInfo": {
     "elapsed": 355,
     "status": "error",
     "timestamp": 1659773891997,
     "user": {
      "displayName": "Gracen Hanley",
      "userId": "14517815644308397440"
     },
     "user_tz": 420
    },
    "id": "4ebqpNcm4BDH",
    "outputId": "5d7a78b6-3474-4fff-e6f5-376482e8eba9"
   },
   "outputs": [],
   "source": [
    "# RUN THIS CELL TO IMPORT YOUR DATA.\n",
    "# Load extracted_nba_players_data.csv into a DataFrame called extracted_data.\n",
    "\n",
    "extracted_data = pd.read_csv(r'C:\\Users\\USER\\Downloads\\extracted_nba_players_data.csv')"
   ]
  },
  {
   "cell_type": "markdown",
   "metadata": {
    "id": "6bg_6M3IRgMU"
   },
   "source": [
    "### Display the data\n",
    "\n",
    "Review the first 10 rows of data."
   ]
  },
  {
   "cell_type": "code",
   "execution_count": 9,
   "metadata": {
    "id": "JWu8u19C2sn1"
   },
   "outputs": [
    {
     "data": {
      "text/html": [
       "<div>\n",
       "<style scoped>\n",
       "    .dataframe tbody tr th:only-of-type {\n",
       "        vertical-align: middle;\n",
       "    }\n",
       "\n",
       "    .dataframe tbody tr th {\n",
       "        vertical-align: top;\n",
       "    }\n",
       "\n",
       "    .dataframe thead th {\n",
       "        text-align: right;\n",
       "    }\n",
       "</style>\n",
       "<table border=\"1\" class=\"dataframe\">\n",
       "  <thead>\n",
       "    <tr style=\"text-align: right;\">\n",
       "      <th></th>\n",
       "      <th>fg</th>\n",
       "      <th>3p</th>\n",
       "      <th>ft</th>\n",
       "      <th>reb</th>\n",
       "      <th>ast</th>\n",
       "      <th>stl</th>\n",
       "      <th>blk</th>\n",
       "      <th>tov</th>\n",
       "      <th>target_5yrs</th>\n",
       "      <th>total_points</th>\n",
       "      <th>efficiency</th>\n",
       "    </tr>\n",
       "  </thead>\n",
       "  <tbody>\n",
       "    <tr>\n",
       "      <th>0</th>\n",
       "      <td>34.7</td>\n",
       "      <td>25.0</td>\n",
       "      <td>69.9</td>\n",
       "      <td>4.1</td>\n",
       "      <td>1.9</td>\n",
       "      <td>0.4</td>\n",
       "      <td>0.4</td>\n",
       "      <td>1.3</td>\n",
       "      <td>0</td>\n",
       "      <td>266.4</td>\n",
       "      <td>0.270073</td>\n",
       "    </tr>\n",
       "    <tr>\n",
       "      <th>1</th>\n",
       "      <td>29.6</td>\n",
       "      <td>23.5</td>\n",
       "      <td>76.5</td>\n",
       "      <td>2.4</td>\n",
       "      <td>3.7</td>\n",
       "      <td>1.1</td>\n",
       "      <td>0.5</td>\n",
       "      <td>1.6</td>\n",
       "      <td>0</td>\n",
       "      <td>252.0</td>\n",
       "      <td>0.267658</td>\n",
       "    </tr>\n",
       "    <tr>\n",
       "      <th>2</th>\n",
       "      <td>42.2</td>\n",
       "      <td>24.4</td>\n",
       "      <td>67.0</td>\n",
       "      <td>2.2</td>\n",
       "      <td>1.0</td>\n",
       "      <td>0.5</td>\n",
       "      <td>0.3</td>\n",
       "      <td>1.0</td>\n",
       "      <td>0</td>\n",
       "      <td>384.8</td>\n",
       "      <td>0.339869</td>\n",
       "    </tr>\n",
       "    <tr>\n",
       "      <th>3</th>\n",
       "      <td>42.6</td>\n",
       "      <td>22.6</td>\n",
       "      <td>68.9</td>\n",
       "      <td>1.9</td>\n",
       "      <td>0.8</td>\n",
       "      <td>0.6</td>\n",
       "      <td>0.1</td>\n",
       "      <td>1.0</td>\n",
       "      <td>1</td>\n",
       "      <td>330.6</td>\n",
       "      <td>0.491379</td>\n",
       "    </tr>\n",
       "    <tr>\n",
       "      <th>4</th>\n",
       "      <td>52.4</td>\n",
       "      <td>0.0</td>\n",
       "      <td>67.4</td>\n",
       "      <td>2.5</td>\n",
       "      <td>0.3</td>\n",
       "      <td>0.3</td>\n",
       "      <td>0.4</td>\n",
       "      <td>0.8</td>\n",
       "      <td>1</td>\n",
       "      <td>216.0</td>\n",
       "      <td>0.391304</td>\n",
       "    </tr>\n",
       "    <tr>\n",
       "      <th>5</th>\n",
       "      <td>42.3</td>\n",
       "      <td>32.5</td>\n",
       "      <td>73.2</td>\n",
       "      <td>0.8</td>\n",
       "      <td>1.8</td>\n",
       "      <td>0.4</td>\n",
       "      <td>0.0</td>\n",
       "      <td>0.7</td>\n",
       "      <td>0</td>\n",
       "      <td>277.5</td>\n",
       "      <td>0.324561</td>\n",
       "    </tr>\n",
       "    <tr>\n",
       "      <th>6</th>\n",
       "      <td>43.5</td>\n",
       "      <td>50.0</td>\n",
       "      <td>81.1</td>\n",
       "      <td>2.0</td>\n",
       "      <td>0.6</td>\n",
       "      <td>0.2</td>\n",
       "      <td>0.1</td>\n",
       "      <td>0.7</td>\n",
       "      <td>1</td>\n",
       "      <td>409.2</td>\n",
       "      <td>0.605505</td>\n",
       "    </tr>\n",
       "    <tr>\n",
       "      <th>7</th>\n",
       "      <td>41.5</td>\n",
       "      <td>30.0</td>\n",
       "      <td>87.5</td>\n",
       "      <td>1.7</td>\n",
       "      <td>0.2</td>\n",
       "      <td>0.2</td>\n",
       "      <td>0.1</td>\n",
       "      <td>0.7</td>\n",
       "      <td>1</td>\n",
       "      <td>273.6</td>\n",
       "      <td>0.553398</td>\n",
       "    </tr>\n",
       "    <tr>\n",
       "      <th>8</th>\n",
       "      <td>39.2</td>\n",
       "      <td>23.3</td>\n",
       "      <td>71.4</td>\n",
       "      <td>0.8</td>\n",
       "      <td>2.3</td>\n",
       "      <td>0.3</td>\n",
       "      <td>0.0</td>\n",
       "      <td>1.1</td>\n",
       "      <td>0</td>\n",
       "      <td>156.0</td>\n",
       "      <td>0.242424</td>\n",
       "    </tr>\n",
       "    <tr>\n",
       "      <th>9</th>\n",
       "      <td>38.3</td>\n",
       "      <td>21.4</td>\n",
       "      <td>67.8</td>\n",
       "      <td>1.1</td>\n",
       "      <td>0.3</td>\n",
       "      <td>0.2</td>\n",
       "      <td>0.0</td>\n",
       "      <td>0.7</td>\n",
       "      <td>0</td>\n",
       "      <td>155.4</td>\n",
       "      <td>0.435294</td>\n",
       "    </tr>\n",
       "    <tr>\n",
       "      <th>10</th>\n",
       "      <td>36.5</td>\n",
       "      <td>33.3</td>\n",
       "      <td>81.8</td>\n",
       "      <td>0.9</td>\n",
       "      <td>0.7</td>\n",
       "      <td>0.1</td>\n",
       "      <td>0.1</td>\n",
       "      <td>0.3</td>\n",
       "      <td>0</td>\n",
       "      <td>80.5</td>\n",
       "      <td>0.333333</td>\n",
       "    </tr>\n",
       "    <tr>\n",
       "      <th>11</th>\n",
       "      <td>39.8</td>\n",
       "      <td>13.6</td>\n",
       "      <td>77.6</td>\n",
       "      <td>1.2</td>\n",
       "      <td>0.4</td>\n",
       "      <td>0.3</td>\n",
       "      <td>0.1</td>\n",
       "      <td>0.6</td>\n",
       "      <td>1</td>\n",
       "      <td>144.0</td>\n",
       "      <td>0.537313</td>\n",
       "    </tr>\n",
       "    <tr>\n",
       "      <th>12</th>\n",
       "      <td>47.2</td>\n",
       "      <td>0.0</td>\n",
       "      <td>28.6</td>\n",
       "      <td>2.0</td>\n",
       "      <td>0.2</td>\n",
       "      <td>0.2</td>\n",
       "      <td>0.6</td>\n",
       "      <td>0.3</td>\n",
       "      <td>1</td>\n",
       "      <td>35.1</td>\n",
       "      <td>0.196970</td>\n",
       "    </tr>\n",
       "    <tr>\n",
       "      <th>13</th>\n",
       "      <td>32.3</td>\n",
       "      <td>30.1</td>\n",
       "      <td>86.1</td>\n",
       "      <td>2.0</td>\n",
       "      <td>0.5</td>\n",
       "      <td>0.5</td>\n",
       "      <td>0.3</td>\n",
       "      <td>0.5</td>\n",
       "      <td>0</td>\n",
       "      <td>252.0</td>\n",
       "      <td>0.366013</td>\n",
       "    </tr>\n",
       "    <tr>\n",
       "      <th>14</th>\n",
       "      <td>53.7</td>\n",
       "      <td>0.0</td>\n",
       "      <td>50.0</td>\n",
       "      <td>1.4</td>\n",
       "      <td>0.2</td>\n",
       "      <td>0.2</td>\n",
       "      <td>0.4</td>\n",
       "      <td>0.6</td>\n",
       "      <td>1</td>\n",
       "      <td>105.6</td>\n",
       "      <td>0.375000</td>\n",
       "    </tr>\n",
       "    <tr>\n",
       "      <th>15</th>\n",
       "      <td>51.4</td>\n",
       "      <td>14.3</td>\n",
       "      <td>68.4</td>\n",
       "      <td>0.4</td>\n",
       "      <td>1.4</td>\n",
       "      <td>0.3</td>\n",
       "      <td>0.0</td>\n",
       "      <td>0.8</td>\n",
       "      <td>1</td>\n",
       "      <td>104.0</td>\n",
       "      <td>0.426230</td>\n",
       "    </tr>\n",
       "    <tr>\n",
       "      <th>16</th>\n",
       "      <td>37.6</td>\n",
       "      <td>0.0</td>\n",
       "      <td>64.2</td>\n",
       "      <td>1.2</td>\n",
       "      <td>0.2</td>\n",
       "      <td>0.3</td>\n",
       "      <td>0.2</td>\n",
       "      <td>0.5</td>\n",
       "      <td>0</td>\n",
       "      <td>102.9</td>\n",
       "      <td>0.396226</td>\n",
       "    </tr>\n",
       "    <tr>\n",
       "      <th>17</th>\n",
       "      <td>34.8</td>\n",
       "      <td>21.4</td>\n",
       "      <td>73.1</td>\n",
       "      <td>0.3</td>\n",
       "      <td>1.0</td>\n",
       "      <td>0.3</td>\n",
       "      <td>0.0</td>\n",
       "      <td>0.4</td>\n",
       "      <td>0</td>\n",
       "      <td>69.7</td>\n",
       "      <td>0.404762</td>\n",
       "    </tr>\n",
       "    <tr>\n",
       "      <th>18</th>\n",
       "      <td>49.0</td>\n",
       "      <td>22.7</td>\n",
       "      <td>82.9</td>\n",
       "      <td>11.0</td>\n",
       "      <td>3.6</td>\n",
       "      <td>1.0</td>\n",
       "      <td>0.6</td>\n",
       "      <td>1.9</td>\n",
       "      <td>0</td>\n",
       "      <td>1574.4</td>\n",
       "      <td>0.516129</td>\n",
       "    </tr>\n",
       "    <tr>\n",
       "      <th>19</th>\n",
       "      <td>49.0</td>\n",
       "      <td>22.7</td>\n",
       "      <td>82.9</td>\n",
       "      <td>11.0</td>\n",
       "      <td>3.6</td>\n",
       "      <td>1.0</td>\n",
       "      <td>0.6</td>\n",
       "      <td>1.9</td>\n",
       "      <td>1</td>\n",
       "      <td>1574.4</td>\n",
       "      <td>0.516129</td>\n",
       "    </tr>\n",
       "  </tbody>\n",
       "</table>\n",
       "</div>"
      ],
      "text/plain": [
       "      fg    3p    ft   reb  ast  stl  blk  tov  target_5yrs  total_points  \\\n",
       "0   34.7  25.0  69.9   4.1  1.9  0.4  0.4  1.3            0         266.4   \n",
       "1   29.6  23.5  76.5   2.4  3.7  1.1  0.5  1.6            0         252.0   \n",
       "2   42.2  24.4  67.0   2.2  1.0  0.5  0.3  1.0            0         384.8   \n",
       "3   42.6  22.6  68.9   1.9  0.8  0.6  0.1  1.0            1         330.6   \n",
       "4   52.4   0.0  67.4   2.5  0.3  0.3  0.4  0.8            1         216.0   \n",
       "5   42.3  32.5  73.2   0.8  1.8  0.4  0.0  0.7            0         277.5   \n",
       "6   43.5  50.0  81.1   2.0  0.6  0.2  0.1  0.7            1         409.2   \n",
       "7   41.5  30.0  87.5   1.7  0.2  0.2  0.1  0.7            1         273.6   \n",
       "8   39.2  23.3  71.4   0.8  2.3  0.3  0.0  1.1            0         156.0   \n",
       "9   38.3  21.4  67.8   1.1  0.3  0.2  0.0  0.7            0         155.4   \n",
       "10  36.5  33.3  81.8   0.9  0.7  0.1  0.1  0.3            0          80.5   \n",
       "11  39.8  13.6  77.6   1.2  0.4  0.3  0.1  0.6            1         144.0   \n",
       "12  47.2   0.0  28.6   2.0  0.2  0.2  0.6  0.3            1          35.1   \n",
       "13  32.3  30.1  86.1   2.0  0.5  0.5  0.3  0.5            0         252.0   \n",
       "14  53.7   0.0  50.0   1.4  0.2  0.2  0.4  0.6            1         105.6   \n",
       "15  51.4  14.3  68.4   0.4  1.4  0.3  0.0  0.8            1         104.0   \n",
       "16  37.6   0.0  64.2   1.2  0.2  0.3  0.2  0.5            0         102.9   \n",
       "17  34.8  21.4  73.1   0.3  1.0  0.3  0.0  0.4            0          69.7   \n",
       "18  49.0  22.7  82.9  11.0  3.6  1.0  0.6  1.9            0        1574.4   \n",
       "19  49.0  22.7  82.9  11.0  3.6  1.0  0.6  1.9            1        1574.4   \n",
       "\n",
       "    efficiency  \n",
       "0     0.270073  \n",
       "1     0.267658  \n",
       "2     0.339869  \n",
       "3     0.491379  \n",
       "4     0.391304  \n",
       "5     0.324561  \n",
       "6     0.605505  \n",
       "7     0.553398  \n",
       "8     0.242424  \n",
       "9     0.435294  \n",
       "10    0.333333  \n",
       "11    0.537313  \n",
       "12    0.196970  \n",
       "13    0.366013  \n",
       "14    0.375000  \n",
       "15    0.426230  \n",
       "16    0.396226  \n",
       "17    0.404762  \n",
       "18    0.516129  \n",
       "19    0.516129  "
      ]
     },
     "execution_count": 9,
     "metadata": {},
     "output_type": "execute_result"
    }
   ],
   "source": [
    "# Display the first 10 rows of data.\n",
    "\n",
    "### YOUR CODE HERE ###\n",
    "\n",
    "extracted_data.head(20)"
   ]
  },
  {
   "cell_type": "code",
   "execution_count": 10,
   "metadata": {},
   "outputs": [
    {
     "data": {
      "text/plain": [
       "(1340, 11)"
      ]
     },
     "execution_count": 10,
     "metadata": {},
     "output_type": "execute_result"
    }
   ],
   "source": [
    "extracted_data.shape"
   ]
  },
  {
   "cell_type": "markdown",
   "metadata": {
    "id": "4zz8claq0Swi"
   },
   "source": [
    "## Step 2: Model preparation"
   ]
  },
  {
   "cell_type": "markdown",
   "metadata": {
    "id": "8kgPx_MP0cuc"
   },
   "source": [
    "### Isolate your target and predictor variables\n",
    "Separately define the target variable (`target_5yrs`) and the features."
   ]
  },
  {
   "cell_type": "code",
   "execution_count": 11,
   "metadata": {
    "id": "xO46EzS8oBIG"
   },
   "outputs": [],
   "source": [
    "# Define the y (target) variable.\n",
    "\n",
    "### YOUR CODE HERE ###\n",
    "y = extracted_data['target_5yrs']\n",
    "\n",
    "# Define the X (predictor) variables.\n",
    "\n",
    "### YOUR CODE HERE ###\n",
    "X = extracted_data.drop('target_5yrs', axis = 1)"
   ]
  },
  {
   "cell_type": "markdown",
   "metadata": {
    "id": "CzQNmlZ75e_Y"
   },
   "source": [
    "<details>\n",
    "<summary><h4><strong>Hint 1</strong></h4></summary>\n",
    "\n",
    "Refer to [the content about splitting your data into X and y](https://www.coursera.org/learn/the-nuts-and-bolts-of-machine-learning/lecture/VxbUT/construct-a-naive-bayes-model-with-python).\n",
    "</details>"
   ]
  },
  {
   "cell_type": "markdown",
   "metadata": {
    "id": "WWXkObsg5gzd"
   },
   "source": [
    "<details>\n",
    "<summary><h4><strong>Hint 2</strong></h4></summary>\n",
    "\n",
    "In `pandas`, subset your DataFrame by using square brackets `[]` to specify which column(s) to select.\n",
    "</details>"
   ]
  },
  {
   "cell_type": "markdown",
   "metadata": {
    "id": "JU9z6ufC5n58"
   },
   "source": [
    "<details>\n",
    "<summary><h4><strong>Hint 3</strong></h4></summary>\n",
    "\n",
    "Quickly subset a DataFrame to exclude a particular column by using the `drop()` function and specifying the column to drop.\n",
    "</details>"
   ]
  },
  {
   "cell_type": "markdown",
   "metadata": {
    "id": "xj8-Pb0N-rjW"
   },
   "source": [
    "### Display the first 10 rows of your target data\n",
    "\n",
    "Display the first 10 rows of your target and predictor variables. This will help you get a sense of how the data is structured."
   ]
  },
  {
   "cell_type": "code",
   "execution_count": 12,
   "metadata": {
    "id": "pivKfaxQ5uHZ"
   },
   "outputs": [
    {
     "data": {
      "text/plain": [
       "0    0\n",
       "1    0\n",
       "2    0\n",
       "3    1\n",
       "4    1\n",
       "5    0\n",
       "6    1\n",
       "7    1\n",
       "8    0\n",
       "9    0\n",
       "Name: target_5yrs, dtype: int64"
      ]
     },
     "execution_count": 12,
     "metadata": {},
     "output_type": "execute_result"
    }
   ],
   "source": [
    "# Display the first 10 rows of your target data.\n",
    "\n",
    "### YOUR CODE HERE ###\n",
    "\n",
    "y.head(10)"
   ]
  },
  {
   "cell_type": "markdown",
   "metadata": {
    "id": "oDls2RifZhu2"
   },
   "source": [
    "**Question:** What do you observe about the your target variable?\n",
    "\n",
    "Given that the target variable contains both 1 and 0 indicates that it is binary and requires a model suitable for binary classification. "
   ]
  },
  {
   "cell_type": "code",
   "execution_count": 13,
   "metadata": {
    "id": "2kDZK5qe-4B0"
   },
   "outputs": [
    {
     "data": {
      "text/html": [
       "<div>\n",
       "<style scoped>\n",
       "    .dataframe tbody tr th:only-of-type {\n",
       "        vertical-align: middle;\n",
       "    }\n",
       "\n",
       "    .dataframe tbody tr th {\n",
       "        vertical-align: top;\n",
       "    }\n",
       "\n",
       "    .dataframe thead th {\n",
       "        text-align: right;\n",
       "    }\n",
       "</style>\n",
       "<table border=\"1\" class=\"dataframe\">\n",
       "  <thead>\n",
       "    <tr style=\"text-align: right;\">\n",
       "      <th></th>\n",
       "      <th>fg</th>\n",
       "      <th>3p</th>\n",
       "      <th>ft</th>\n",
       "      <th>reb</th>\n",
       "      <th>ast</th>\n",
       "      <th>stl</th>\n",
       "      <th>blk</th>\n",
       "      <th>tov</th>\n",
       "      <th>total_points</th>\n",
       "      <th>efficiency</th>\n",
       "    </tr>\n",
       "  </thead>\n",
       "  <tbody>\n",
       "    <tr>\n",
       "      <th>0</th>\n",
       "      <td>34.7</td>\n",
       "      <td>25.0</td>\n",
       "      <td>69.9</td>\n",
       "      <td>4.1</td>\n",
       "      <td>1.9</td>\n",
       "      <td>0.4</td>\n",
       "      <td>0.4</td>\n",
       "      <td>1.3</td>\n",
       "      <td>266.4</td>\n",
       "      <td>0.270073</td>\n",
       "    </tr>\n",
       "    <tr>\n",
       "      <th>1</th>\n",
       "      <td>29.6</td>\n",
       "      <td>23.5</td>\n",
       "      <td>76.5</td>\n",
       "      <td>2.4</td>\n",
       "      <td>3.7</td>\n",
       "      <td>1.1</td>\n",
       "      <td>0.5</td>\n",
       "      <td>1.6</td>\n",
       "      <td>252.0</td>\n",
       "      <td>0.267658</td>\n",
       "    </tr>\n",
       "    <tr>\n",
       "      <th>2</th>\n",
       "      <td>42.2</td>\n",
       "      <td>24.4</td>\n",
       "      <td>67.0</td>\n",
       "      <td>2.2</td>\n",
       "      <td>1.0</td>\n",
       "      <td>0.5</td>\n",
       "      <td>0.3</td>\n",
       "      <td>1.0</td>\n",
       "      <td>384.8</td>\n",
       "      <td>0.339869</td>\n",
       "    </tr>\n",
       "    <tr>\n",
       "      <th>3</th>\n",
       "      <td>42.6</td>\n",
       "      <td>22.6</td>\n",
       "      <td>68.9</td>\n",
       "      <td>1.9</td>\n",
       "      <td>0.8</td>\n",
       "      <td>0.6</td>\n",
       "      <td>0.1</td>\n",
       "      <td>1.0</td>\n",
       "      <td>330.6</td>\n",
       "      <td>0.491379</td>\n",
       "    </tr>\n",
       "    <tr>\n",
       "      <th>4</th>\n",
       "      <td>52.4</td>\n",
       "      <td>0.0</td>\n",
       "      <td>67.4</td>\n",
       "      <td>2.5</td>\n",
       "      <td>0.3</td>\n",
       "      <td>0.3</td>\n",
       "      <td>0.4</td>\n",
       "      <td>0.8</td>\n",
       "      <td>216.0</td>\n",
       "      <td>0.391304</td>\n",
       "    </tr>\n",
       "    <tr>\n",
       "      <th>5</th>\n",
       "      <td>42.3</td>\n",
       "      <td>32.5</td>\n",
       "      <td>73.2</td>\n",
       "      <td>0.8</td>\n",
       "      <td>1.8</td>\n",
       "      <td>0.4</td>\n",
       "      <td>0.0</td>\n",
       "      <td>0.7</td>\n",
       "      <td>277.5</td>\n",
       "      <td>0.324561</td>\n",
       "    </tr>\n",
       "    <tr>\n",
       "      <th>6</th>\n",
       "      <td>43.5</td>\n",
       "      <td>50.0</td>\n",
       "      <td>81.1</td>\n",
       "      <td>2.0</td>\n",
       "      <td>0.6</td>\n",
       "      <td>0.2</td>\n",
       "      <td>0.1</td>\n",
       "      <td>0.7</td>\n",
       "      <td>409.2</td>\n",
       "      <td>0.605505</td>\n",
       "    </tr>\n",
       "    <tr>\n",
       "      <th>7</th>\n",
       "      <td>41.5</td>\n",
       "      <td>30.0</td>\n",
       "      <td>87.5</td>\n",
       "      <td>1.7</td>\n",
       "      <td>0.2</td>\n",
       "      <td>0.2</td>\n",
       "      <td>0.1</td>\n",
       "      <td>0.7</td>\n",
       "      <td>273.6</td>\n",
       "      <td>0.553398</td>\n",
       "    </tr>\n",
       "    <tr>\n",
       "      <th>8</th>\n",
       "      <td>39.2</td>\n",
       "      <td>23.3</td>\n",
       "      <td>71.4</td>\n",
       "      <td>0.8</td>\n",
       "      <td>2.3</td>\n",
       "      <td>0.3</td>\n",
       "      <td>0.0</td>\n",
       "      <td>1.1</td>\n",
       "      <td>156.0</td>\n",
       "      <td>0.242424</td>\n",
       "    </tr>\n",
       "    <tr>\n",
       "      <th>9</th>\n",
       "      <td>38.3</td>\n",
       "      <td>21.4</td>\n",
       "      <td>67.8</td>\n",
       "      <td>1.1</td>\n",
       "      <td>0.3</td>\n",
       "      <td>0.2</td>\n",
       "      <td>0.0</td>\n",
       "      <td>0.7</td>\n",
       "      <td>155.4</td>\n",
       "      <td>0.435294</td>\n",
       "    </tr>\n",
       "  </tbody>\n",
       "</table>\n",
       "</div>"
      ],
      "text/plain": [
       "     fg    3p    ft  reb  ast  stl  blk  tov  total_points  efficiency\n",
       "0  34.7  25.0  69.9  4.1  1.9  0.4  0.4  1.3         266.4    0.270073\n",
       "1  29.6  23.5  76.5  2.4  3.7  1.1  0.5  1.6         252.0    0.267658\n",
       "2  42.2  24.4  67.0  2.2  1.0  0.5  0.3  1.0         384.8    0.339869\n",
       "3  42.6  22.6  68.9  1.9  0.8  0.6  0.1  1.0         330.6    0.491379\n",
       "4  52.4   0.0  67.4  2.5  0.3  0.3  0.4  0.8         216.0    0.391304\n",
       "5  42.3  32.5  73.2  0.8  1.8  0.4  0.0  0.7         277.5    0.324561\n",
       "6  43.5  50.0  81.1  2.0  0.6  0.2  0.1  0.7         409.2    0.605505\n",
       "7  41.5  30.0  87.5  1.7  0.2  0.2  0.1  0.7         273.6    0.553398\n",
       "8  39.2  23.3  71.4  0.8  2.3  0.3  0.0  1.1         156.0    0.242424\n",
       "9  38.3  21.4  67.8  1.1  0.3  0.2  0.0  0.7         155.4    0.435294"
      ]
     },
     "execution_count": 13,
     "metadata": {},
     "output_type": "execute_result"
    }
   ],
   "source": [
    "# Display the first 10 rows of your predictor variables.\n",
    "\n",
    "### YOUR CODE HERE ###\n",
    "\n",
    "X.head(10)"
   ]
  },
  {
   "cell_type": "markdown",
   "metadata": {
    "id": "Albdy39HZwQT"
   },
   "source": [
    "**Question:** What do you observe about the your predictor variables?\n",
    "\n",
    "The data indicates that all of the predictor variables are continuous numerical values, so it is important that the model selected is suitable for continuous features. "
   ]
  },
  {
   "cell_type": "markdown",
   "metadata": {
    "id": "cQ-wo4UOoBII"
   },
   "source": [
    "### Perform a split operation on your data\n",
    "\n",
    "Divide your data into a training set (75% of data) and test set (25% of data). This is an important step in the process, as it allows you to reserve a part of the data that the model has not observed. This tests how well the model generalizes—or performs—on new data."
   ]
  },
  {
   "cell_type": "code",
   "execution_count": 14,
   "metadata": {
    "id": "pO2AdPR7oBIJ"
   },
   "outputs": [],
   "source": [
    "# Perform the split operation on your data.\n",
    "# Assign the outputs as follows: X_train, X_test, y_train, y_test.\n",
    "\n",
    "### YOUR CODE HERE ###\n",
    "\n",
    "X_train, X_test, y_train, y_test = model_selection.train_test_split(X, y, test_size=0.25, random_state=0)"
   ]
  },
  {
   "cell_type": "markdown",
   "metadata": {
    "id": "DgY9icEY2mKn"
   },
   "source": [
    "<details>\n",
    "<summary><h4><strong>Hint 1</strong></h4></summary>\n",
    "\n",
    "Refer to [the content about splitting your data between a training and test set](https://www.coursera.org/learn/the-nuts-and-bolts-of-machine-learning/lecture/VxbUT/construct-a-naive-bayes-model-with-python).\n",
    "</details>"
   ]
  },
  {
   "cell_type": "markdown",
   "metadata": {
    "id": "pUmzKZUU2mKp"
   },
   "source": [
    "<details>\n",
    "<summary><h4><strong>Hint 2</strong></h4></summary>\n",
    "\n",
    "Call the function in the `model_selection` module of `sklearn` on the features and target variable, in order to perform the splitting.\n",
    "</details>"
   ]
  },
  {
   "cell_type": "markdown",
   "metadata": {
    "id": "ORy1MNR62mKq"
   },
   "source": [
    "<details>\n",
    "<summary><h4><strong>Hint 3</strong></h4></summary>\n",
    "\n",
    "Call the `model_selection.train_test_split()` function, passing in both `features` and `target`, while configuring the appropriate `test_size`.\n",
    "\n",
    "Assign the output of this split as `X_train`, `X_test`, `y_train`, `y_test`.\n",
    "</details>"
   ]
  },
  {
   "cell_type": "markdown",
   "metadata": {
    "id": "Gjasizab0tSL"
   },
   "source": [
    "### Print the shape of each output \n",
    "\n",
    "Print the shape of each output from your train-test split. This will verify that the split operated as expected."
   ]
  },
  {
   "cell_type": "code",
   "execution_count": 15,
   "metadata": {
    "id": "xtxpSjCm4jCa"
   },
   "outputs": [
    {
     "name": "stdout",
     "output_type": "stream",
     "text": [
      "(1005, 10)\n",
      "(335, 10)\n",
      "(1005,)\n",
      "(335,)\n"
     ]
    }
   ],
   "source": [
    "# Print the shape (rows, columns) of the output from the train-test split.\n",
    "\n",
    "# Print the shape of X_train.\n",
    "\n",
    "### YOUR CODE HERE ###\n",
    "\n",
    "print(X_train.shape)\n",
    "\n",
    "# Print the shape of X_test.\n",
    "\n",
    "### YOUR CODE HERE ###\n",
    "\n",
    "print(X_test.shape)\n",
    "\n",
    "# Print the shape of y_train.\n",
    "\n",
    "### YOUR CODE HERE ###\n",
    "\n",
    "print(y_train.shape)\n",
    "\n",
    "# Print the shape of y_test.\n",
    "\n",
    "### YOUR CODE HERE ###\n",
    "\n",
    "print(y_test.shape)"
   ]
  },
  {
   "cell_type": "markdown",
   "metadata": {
    "id": "dx8DO1Rw2ZBZ"
   },
   "source": [
    "<details>\n",
    "<summary><h4><strong>Hint 1</strong></h4></summary>\n",
    "\n",
    "Call the attribute that DataFrames in `pandas` have to get the number of rows and number of columns as a tuple.\n",
    "</details>"
   ]
  },
  {
   "cell_type": "markdown",
   "metadata": {
    "id": "G9pDSxlG2di1"
   },
   "source": [
    "<details>\n",
    "<summary><h4><strong>Hint 2</strong></h4></summary>\n",
    "\n",
    "Call the `shape` attribute.\n",
    "</details>"
   ]
  },
  {
   "cell_type": "markdown",
   "metadata": {
    "id": "MCIsGmSESpu5"
   },
   "source": [
    "**Question:** How many rows are in each of the outputs?\n",
    "\n",
    "Each training DataFrame contains 1,005 rows, while each test DataFrame contains 335 rows. Additionally, there are 10 columns in each X DataFrame, with only one column in each y DataFrame. \n",
    "\n"
   ]
  },
  {
   "cell_type": "markdown",
   "metadata": {
    "id": "zZndsnPq1UyL"
   },
   "source": [
    "**Question:** What was the effect of the train-test split?\n",
    "\n",
    "The effect of the train-test split showed an approximately 75% training and 25% test split. "
   ]
  },
  {
   "cell_type": "markdown",
   "metadata": {
    "id": "MY0rAjlZAheh"
   },
   "source": [
    "## Step 3: Model building"
   ]
  },
  {
   "cell_type": "markdown",
   "metadata": {
    "id": "YS06KhTSoBIM"
   },
   "source": [
    "**Question:** Which Naive Bayes algorithm should you use?\n",
    "\n",
    "Using the assumption that your features are normally distributed and continuous, the Gaussian Naive Bayes algorithm is most appropriate for your data. While your data may not perfectly adhere to these assumptions, this model will still yield the most usable and accurate results. "
   ]
  },
  {
   "cell_type": "markdown",
   "metadata": {
    "id": "OOBvfCNeoBIM"
   },
   "source": [
    "<details>\n",
    "<summary><h4><strong>Hint 1</strong></h4></summary>\n",
    "\n",
    "Refer to [the content about different implementations of the Naive Bayes](https://www.coursera.org/learn/the-nuts-and-bolts-of-machine-learning/supplement/1zfDy/naive-bayes-classifiers) to determine which is appropriate in this situation.\n",
    "</details>"
   ]
  },
  {
   "cell_type": "markdown",
   "metadata": {
    "id": "gzT16WHjoBIM"
   },
   "source": [
    "<details>\n",
    "<summary><h4><strong>Hint 2</strong></h4></summary>\n",
    "\n",
    "Note that you are performing binary classification.\n",
    "</details>"
   ]
  },
  {
   "cell_type": "markdown",
   "metadata": {
    "id": "IILInxLYoBIN"
   },
   "source": [
    "<details>\n",
    "<summary><h4><strong>Hint 3</strong></h4></summary>\n",
    "\n",
    "You can identify the appropriate algorithm to use because you are performing a binary classification and assuming that the features of your model follow a normal distribution.\n",
    "</details>"
   ]
  },
  {
   "cell_type": "markdown",
   "metadata": {
    "id": "m5EFtZfXoBIN"
   },
   "source": [
    "### Fit your model to your training data and predict on your test data\n",
    "\n",
    "By creating your model, you will be drawing on your feature engineering work by training the classifier on the `X_train` DataFrame. You will use this to predict `target_5yrs` from `y_train`.\n",
    "\n",
    "Start by defining `nb` to be the relevant algorithm from `sklearn`.`naive_bayes`. Then fit your model to your training data. Use this fitted model to create predictions for your test data."
   ]
  },
  {
   "cell_type": "code",
   "execution_count": 16,
   "metadata": {
    "id": "gUEgzQW_6oMV"
   },
   "outputs": [],
   "source": [
    "# Assign `nb` to be the appropriate implementation of Naive Bayes.\n",
    "\n",
    "### YOUR CODE HERE ###\n",
    "\n",
    "nb = naive_bayes.GaussianNB()\n",
    "\n",
    "# Fit the model on your training data.\n",
    "\n",
    "### YOUR CODE HERE ###\n",
    "\n",
    "nb.fit(X_train, y_train)\n",
    "\n",
    "# Apply your model to predict on your test data. Call this \"y_pred\".\n",
    "\n",
    "### YOUR CODE HERE ###\n",
    "\n",
    "y_pred = nb.predict(X_test)"
   ]
  },
  {
   "cell_type": "markdown",
   "metadata": {
    "id": "l2vRT5XeoBIN"
   },
   "source": [
    "<details>\n",
    "<summary><h4><strong>Hint 1</strong></h4></summary>\n",
    "\n",
    "Refer to [the content about constructing a Naive Bayes](https://www.coursera.org/learn/the-nuts-and-bolts-of-machine-learning/lecture/VxbUT/construct-a-naive-bayes-model-with-python).\n",
    "</details>"
   ]
  },
  {
   "cell_type": "markdown",
   "metadata": {
    "id": "Vo1E7RjtoBIN"
   },
   "source": [
    "<details>\n",
    "<summary><h4><strong>Hint 2</strong></h4></summary>\n",
    "\n",
    "The appropriate implementation in this case is `naive_bayes`.`GaussianNB()`. Fit this model to your training data and predict on your test data.\n",
    "</details>"
   ]
  },
  {
   "cell_type": "markdown",
   "metadata": {
    "id": "azSq51xXoBIN"
   },
   "source": [
    "<details>\n",
    "<summary><h4><strong>Hint 3</strong></h4></summary>\n",
    "\n",
    "Call `fit()`and pass your training feature set and target variable. Then call `predict()` on your test feature set.\n",
    "</details>"
   ]
  },
  {
   "cell_type": "markdown",
   "metadata": {
    "id": "qgV_6xAQAvgg"
   },
   "source": [
    "## Step 4: Results and evaluation\n"
   ]
  },
  {
   "cell_type": "markdown",
   "metadata": {
    "id": "XPswDdr1oBIO"
   },
   "source": [
    "### Leverage metrics to evaluate your model's performance\n",
    "\n",
    "To evaluate the data yielded from your model, you can leverage a series of metrics and evaluation techniques from scikit-learn by examining the actual observed values in the test set relative to your model's prediction. Specifically, print the accuracy score, precision score, recall score, and f1 score associated with your test data and predicted values."
   ]
  },
  {
   "cell_type": "code",
   "execution_count": 17,
   "metadata": {
    "id": "INf2Rd_MoBIP"
   },
   "outputs": [
    {
     "name": "stdout",
     "output_type": "stream",
     "text": [
      "accuracy score:\n",
      "0.6895522388059702\n",
      "precision score:\n",
      "0.8405797101449275\n",
      "recall score:\n",
      "0.5858585858585859\n",
      "f1 score:\n",
      "0.6904761904761905\n"
     ]
    },
    {
     "data": {
      "text/plain": [
       "(None, None)"
      ]
     },
     "execution_count": 17,
     "metadata": {},
     "output_type": "execute_result"
    }
   ],
   "source": [
    "# Print your accuracy score.\n",
    "\n",
    "### YOUR CODE HERE ###\n",
    "\n",
    "print('accuracy score:'), print(metrics.accuracy_score(y_test, y_pred))\n",
    "\n",
    "# Print your precision score.\n",
    "\n",
    "### YOUR CODE HERE ###\n",
    "\n",
    "print('precision score:'), print(metrics.precision_score(y_test, y_pred))\n",
    "\n",
    "# Print your recall score.\n",
    "\n",
    "### YOUR CODE HERE ###\n",
    "\n",
    "print('recall score:'), print(metrics.recall_score(y_test, y_pred))\n",
    "\n",
    "# Print your f1 score.\n",
    "\n",
    "### YOUR CODE HERE ###\n",
    "\n",
    "print('f1 score:'), print(metrics.f1_score(y_test, y_pred))"
   ]
  },
  {
   "cell_type": "markdown",
   "metadata": {
    "id": "mEgb0a2YoBIP"
   },
   "source": [
    "<details>\n",
    "<summary><h4><strong>Hint 1</strong></h4></summary>\n",
    "\n",
    "Refer to [the content about model evaluation](https://www.coursera.org/learn/the-nuts-and-bolts-of-machine-learning/lecture/EITmV/key-evaluation-metrics-for-classification-models) for detail on these metrics.\n",
    "</details>"
   ]
  },
  {
   "cell_type": "markdown",
   "metadata": {
    "id": "oT143KsSoBIP"
   },
   "source": [
    "<details>\n",
    "<summary><h4><strong>Hint 2</strong></h4></summary>\n",
    "\n",
    "The `metrics` module in `sklearn` has a function for computing each of these metrics.\n",
    "</details>"
   ]
  },
  {
   "cell_type": "markdown",
   "metadata": {
    "id": "BECv4a2toBIP"
   },
   "source": [
    "<details>\n",
    "<summary><h4><strong>Hint 3</strong></h4></summary>\n",
    "\n",
    "Call `accuracy_score()`, `precision_score()`, `recall_score()`, and `f1_score()`, passing `y_test`, and `y_pred` into each function.\n",
    "</details>"
   ]
  },
  {
   "cell_type": "markdown",
   "metadata": {
    "id": "dDx7rrdNoBIP"
   },
   "source": [
    "**Question:** What is the accuracy score for your model, and what does this tell you about the success of the model's performance?\n",
    "\n",
    "The accuracy score for this model is 0.6896, or 69.0% accurate."
   ]
  },
  {
   "cell_type": "markdown",
   "metadata": {
    "id": "QirKWngCah9v"
   },
   "source": [
    "**Question:** Can you evaluate the success of your model by using the accuracy score exclusively?\n",
    "\n",
    "In classification problems, accuracy is useful to know but may not be the best metric by which to evaluate this model. While accuracy is often the most intuitive metric, it is a poor evaluation metric in some cases. In particular, if you have imbalanced classes, a model could appear accurate but be poor at balancing false positives and false negatives."
   ]
  },
  {
   "cell_type": "markdown",
   "metadata": {
    "id": "evpAa_4noBIP"
   },
   "source": [
    "**Question:** What are the precision and recall scores for your model, and what do they mean? Is one of these scores more accurate than the other?\n",
    "\n",
    "Precision and recall scores are both useful to evaluate the correct predictive capability of a model because they balance the false positives and false negatives inherent in prediction.\n",
    "\n",
    "The model shows a precision score of 0.8406, suggesting the model is quite good at predicting true positives—meaning the player will play longer than five years—while balancing false positives. The recall score of 0.5859 shows worse performance in predicting true negatives—where the player will not play for five years or more—while balancing false negatives.These two metrics combined can give a better assessment of model performance than accuracy does alone."
   ]
  },
  {
   "cell_type": "markdown",
   "metadata": {
    "id": "7ghkTwSUoBIP"
   },
   "source": [
    "**Question:** What is the F1 score of your model, and what does this score mean?\n",
    "\n",
    "The F1 score balances the precision and recall performance to give a combined assessment of how well this model delivers predictions. In this case, the F1 score is 0.6905, which suggests reasonable predictive power in this model."
   ]
  },
  {
   "cell_type": "markdown",
   "metadata": {
    "id": "mNzDfI3RoBIQ"
   },
   "source": [
    "### Gain clarity with the confusion matrix\n",
    "\n",
    "Recall that a confusion matrix is a graphic that shows your model's true and false positives and negatives. It helps to create a visual representation of the components feeding into the metrics.\n",
    "\n",
    "Create a confusion matrix based on your predicted values for the test set."
   ]
  },
  {
   "cell_type": "code",
   "execution_count": 18,
   "metadata": {
    "id": "ntoJ-YG7oBIQ"
   },
   "outputs": [
    {
     "data": {
      "text/plain": [
       "<sklearn.metrics._plot.confusion_matrix.ConfusionMatrixDisplay at 0x19ae78e2750>"
      ]
     },
     "execution_count": 18,
     "metadata": {},
     "output_type": "execute_result"
    },
    {
     "data": {
      "image/png": "[encoded data removed]",
      "text/plain": [
       "<Figure size 640x480 with 2 Axes>"
      ]
     },
     "metadata": {},
     "output_type": "display_data"
    }
   ],
   "source": [
    "# Construct and display your confusion matrix.\n",
    "\n",
    "# Construct the confusion matrix for your predicted and test values.\n",
    "\n",
    "### YOUR CODE HERE ###\n",
    "\n",
    "cm = metrics.confusion_matrix(y_test, y_pred)\n",
    "\n",
    "# Create the display for your confusion matrix.\n",
    "\n",
    "### YOUR CODE HERE ###\n",
    "\n",
    "disp = metrics.ConfusionMatrixDisplay(confusion_matrix=cm, display_labels=nb.classes_)\n",
    "\n",
    "# Plot the visual in-line.\n",
    "\n",
    "### YOUR CODE HERE ###\n",
    "\n",
    "disp.plot()"
   ]
  },
  {
   "cell_type": "markdown",
   "metadata": {
    "id": "b2lqmzQ-oBIQ"
   },
   "source": [
    "<details>\n",
    "<summary><h4><strong>Hint 1</strong></h4></summary>\n",
    "\n",
    "The `metrics` module has functions to create a confusion matrix.\n",
    "</details>"
   ]
  },
  {
   "cell_type": "markdown",
   "metadata": {
    "id": "Wi_x2zTDoBIQ"
   },
   "source": [
    "<details>\n",
    "<summary><h4><strong>Hint 2</strong></h4></summary>\n",
    "\n",
    "Call `confusion_matrix`, passing in `y_test` and `y_pred`. Then, utilize `ConfusionMatrixDisplay()` to display your confusion matrix.\n",
    "</details>"
   ]
  },
  {
   "cell_type": "markdown",
   "metadata": {
    "id": "aLkF5znkNk7m"
   },
   "source": [
    "**Question:** What do you notice when observing your confusion matrix, and does this correlate to any of your other calculations?\n",
    "\n",
    "- The top left to bottom right diagonal in the confusion matrix represents the correct predictions, and the ratio of these squares showcases the accuracy.\n",
    "\n",
    "- The concentration of true positives stands out relative to false positives. This ratio is why the precision score is so high (0.8406).\n",
    "\n",
    "- True negatives and false negatives are closer in number, which explains the worse recall score."
   ]
  },
  {
   "cell_type": "markdown",
   "metadata": {
    "id": "xur2FC5xAzp0"
   },
   "source": [
    "## Considerations\n",
    "\n",
    "**What are some key takeaways that you learned from this lab?**\n",
    "- The evaluation of the model is important to inform if the model has delivered accurate predictions.\n",
    "- Splitting the data was important for ensuring that there was new data for the model to test its predictive performance.\n",
    "- Each metric provided an evaluation from a different standpoint, and accuracy alone was not a strong way to evaluate the model. \n",
    "- Effective assessments balance the true/false positives versus true/false negatives through the confusion matrix and F1 score.\n",
    "\n",
    "**How would you present your results to your team?**\n",
    "- Showcase the data used to create the prediction and the performance of the model overall.\n",
    "- Review the sample output of the features and the confusion matrix to indicate the model's performance.\n",
    "- Highlight the metric values, emphasizing the F1 score.\n",
    "\n",
    "**How would you summarize your findings to stakeholders?**\n",
    "- The model created provides some value in predicting an NBA player's chances of playing for five years or more.\n",
    "- Notably, the model performed better at predicting true positives than it did at predicting true negatives. In other words, it more accurately identified those players who will likely play for more than five years than it did those who likely will not."
   ]
  },
  {
   "cell_type": "markdown",
   "metadata": {},
   "source": [
    "**Congratulations!** You've completed this lab. However, you may not notice a green check mark next to this item on Coursera's platform. Please continue your progress regardless of the check mark. Just click on the \"save\" icon at the top of this notebook to ensure your work has been logged"
   ]
  }
 ],
 "metadata": {
  "colab": {
   "collapsed_sections": [],
   "provenance": []
  },
  "kernelspec": {
   "display_name": "Python 3 (ipykernel)",
   "language": "python",
   "name": "python3"
  },
  "language_info": {
   "codemirror_mode": {
    "name": "ipython",
    "version": 3
   },
   "file_extension": ".py",
   "mimetype": "text/x-python",
   "name": "python",
   "nbconvert_exporter": "python",
   "pygments_lexer": "ipython3",
   "version": "3.11.5"
  }
 },
 "nbformat": 4,
 "nbformat_minor": 1
}
